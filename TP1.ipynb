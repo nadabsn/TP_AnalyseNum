{
 "cells": [
  {
   "cell_type": "markdown",
   "metadata": {},
   "source": [
    "***\n",
    "\n",
    "# <font color=#0A043F>*Compte rendu TP1*</font>\n",
    "##### <font color=#BEB9CA>*Réalisé par: Nada Ben Slimen*</font>\n",
    "\n",
    "***\n"
   ]
  },
  {
   "cell_type": "markdown",
   "metadata": {},
   "source": [
    "###### <font color=#B37518>Introduction:</font>\n",
    "L’analyse numérique a commencé bien avant la conception des ordinateurs et leur utilisation quotidienne que nous connaissons aujourd’hui. Les premières méthodes ont été développées pour essayer de trouver des moyens rapides et efficaces de s’attaquer à des problèmes soit fastidieux à résoudre à cause de leur grande dimension, soit parce qu’il n’existe pas de solutions explicites connues même pour certaines équations assez simples en apparence.\n",
    "\n",
    "Dès que les premiers ordinateurs sont apparus, ce domaine des mathématiques a pris son envol et continue encore à se développer de façon très soutenue. Les applications extraordinairement nombreuses sont entrées dans notre vie quotidienne directement ou indirectement. Nous les utilisons désormais sans nous en rendre compte mais surtout en ignorant la plupart du temps toute la théorie, l’expertise, le développement des compétences et l’ingéniosité des chercheurs pour en arriver là. Nous pouvons téléphoner, communiquer par satellite, faire des recherches sur internet, regarder des films où plus rien n’est réel sur l’écran, améliorer la sécurité des voitures, des trains, des avions, connaître le temps qu’il fera une semaine à l’avance, ... et ce n’est qu’une infime partie de ce que l’on peut faire.\n"
   ]
  },
  {
   "cell_type": "markdown",
   "metadata": {},
   "source": [
    "###### <font color=#B37518>Exercice 1:</font>\n",
    "\n",
    "**On va voir s'il y une difference entre les deux fonctions p(x) et f(x)**"
   ]
  },
  {
   "cell_type": "code",
   "execution_count": 2,
   "metadata": {},
   "outputs": [
    {
     "name": "stdout",
     "output_type": "stream",
     "text": [
      "avec x= 0.998\n",
      "6.400000000000034e-17\n",
      "1.7763568394002505e-15\n"
     ]
    }
   ],
   "source": [
    "#Déclaration de la fonction reduite: p(x)\n",
    "def p(x):\n",
    "    return (x-1)**6\n",
    "#Déclaration de la fonction développée: f(x)\n",
    "def f(x):\n",
    "    return x**6 - 6*x**5 +15*x**4 - 20*x**3 +15*x**2 - 6*x + 1\n",
    "print('avec x= 0.998')\n",
    "print(p(0.998))\n",
    "print(f(0.998))"
   ]
  },
  {
   "cell_type": "markdown",
   "metadata": {},
   "source": [
    "<font color='red'>=> les deux fonctions sont équivalentes mathématiquement mais ils n'ont pas la meme valeur !</font>"
   ]
  },
  {
   "cell_type": "markdown",
   "metadata": {},
   "source": [
    "**Mainetenant on va voir la difference entre les deux fonctions p(x) et f(x) avec x allant de 0.998 à 1.002 avec une pas de 0.0001**"
   ]
  },
  {
   "cell_type": "code",
   "execution_count": 10,
   "metadata": {},
   "outputs": [
    {
     "name": "stdout",
     "output_type": "stream",
     "text": [
      "Le résultat de la fonction réduite:\n",
      "p(i)= 6.400000000000034e-17\n",
      "p(i)= 4.70458810000019e-17\n",
      "p(i)= 3.40122240000027e-17\n",
      "p(i)= 2.4137569000002966e-17\n",
      "p(i)= 1.6777216000002883e-17\n",
      "p(i)= 1.139062500000259e-17\n",
      "p(i)= 7.52953600000219e-18\n",
      "p(i)= 4.826809000001757e-18\n",
      "p(i)= 2.985984000001342e-18\n",
      "p(i)= 1.771561000000975e-18\n",
      "p(i)= 1.0000000000006715e-18\n",
      "p(i)= 5.314410000004355e-19\n",
      "p(i)= 2.6214400000026335e-19\n",
      "p(i)= 1.1764900000014617e-19\n",
      "p(i)= 4.665600000007277e-20\n",
      "p(i)= 1.562500000003131e-20\n",
      "p(i)= 4.096000000010936e-21\n",
      "p(i)= 7.290000000027557e-22\n",
      "p(i)= 6.400000000038403e-23\n",
      "p(i)= 1.0000000000126618e-24\n",
      "p(i)= 1.1985091468012028e-94\n",
      "p(i)= 9.999999999860165e-25\n",
      "p(i)= 6.399999999953138e-23\n",
      "p(i)= 7.289999999962809e-22\n",
      "p(i)= 4.095999999983651e-21\n",
      "p(i)= 1.562499999994804e-20\n",
      "p(i)= 4.6655999999865574e-20\n",
      "p(i)= 1.1764899999969834e-19\n",
      "p(i)= 2.6214399999939023e-19\n",
      "p(i)= 5.314409999988621e-19\n",
      "p(i)= 9.99999999998007e-19\n",
      "p(i)= 1.7715609999966836e-18\n",
      "p(i)= 2.9859839999947116e-18\n",
      "p(i)= 4.826808999991864e-18\n",
      "p(i)= 7.52953599998786e-18\n",
      "p(i)= 1.1390624999982356e-17\n",
      "p(i)= 1.6777215999974943e-17\n",
      "p(i)= 2.4137568999965134e-17\n",
      "p(i)= 3.401222399995235e-17\n",
      "p(i)= 4.704588099993592e-17\n",
      "p(i)= 6.399999999991508e-17\n",
      "            \n",
      "Le résultat de la fonction développée:\n",
      "            \n",
      "f(i)=  1.7763568394002505e-15\n",
      "f(i)=  1.7763568394002505e-15\n",
      "f(i)=  0.0\n",
      "f(i)=  -2.6645352591003757e-15\n",
      "f(i)=  1.7763568394002505e-15\n",
      "f(i)=  0.0\n",
      "f(i)=  -1.7763568394002505e-15\n",
      "f(i)=  8.881784197001252e-16\n",
      "f(i)=  1.7763568394002505e-15\n",
      "f(i)=  -3.552713678800501e-15\n",
      "f(i)=  0.0\n",
      "f(i)=  -2.6645352591003757e-15\n",
      "f(i)=  0.0\n",
      "f(i)=  0.0\n",
      "f(i)=  -1.7763568394002505e-15\n",
      "f(i)=  -8.881784197001252e-16\n",
      "f(i)=  0.0\n",
      "f(i)=  1.7763568394002505e-15\n",
      "f(i)=  -1.7763568394002505e-15\n",
      "f(i)=  2.6645352591003757e-15\n",
      "f(i)=  0.0\n",
      "f(i)=  -1.7763568394002505e-15\n",
      "f(i)=  -1.7763568394002505e-15\n",
      "f(i)=  -4.440892098500626e-15\n",
      "f(i)=  -1.7763568394002505e-15\n",
      "f(i)=  5.329070518200751e-15\n",
      "f(i)=  0.0\n",
      "f(i)=  -2.6645352591003757e-15\n",
      "f(i)=  1.7763568394002505e-15\n",
      "f(i)=  -3.552713678800501e-15\n",
      "f(i)=  -3.552713678800501e-15\n",
      "f(i)=  8.881784197001252e-16\n",
      "f(i)=  1.7763568394002505e-15\n",
      "f(i)=  -1.7763568394002505e-15\n",
      "f(i)=  0.0\n",
      "f(i)=  2.6645352591003757e-15\n",
      "f(i)=  0.0\n",
      "f(i)=  1.7763568394002505e-15\n",
      "f(i)=  0.0\n",
      "f(i)=  2.6645352591003757e-15\n",
      "f(i)=  1.7763568394002505e-15\n",
      "----------------\n",
      "Est-ce que les deux fonctions donnent le meme résultat?\n",
      "non\n"
     ]
    }
   ],
   "source": [
    "import numpy\n",
    "print('Le résultat de la fonction réduite:')\n",
    "for i in numpy.arange(0.998, 1.002,0.0001):\n",
    "    print('p(i)=' , p(i))\n",
    "print('            ')\n",
    "print('Le résultat de la fonction développée:')\n",
    "print('            ')\n",
    "for i in numpy.arange(0.998, 1.002,0.0001):\n",
    "    print('f(i)= ' , f(i))\n",
    "print('----------------')\n",
    "print('Est-ce que les deux fonctions donnent le meme résultat?')\n",
    "if p(i)==f(i):\n",
    "    print('oui')\n",
    "else:\n",
    "    print('non')\n",
    "    "
   ]
  },
  {
   "cell_type": "markdown",
   "metadata": {},
   "source": [
    "<font color='red'>=> L'arrodissement cause un erreur de calcul</font>"
   ]
  },
  {
   "cell_type": "code",
   "execution_count": null,
   "metadata": {},
   "outputs": [],
   "source": []
  }
 ],
 "metadata": {
  "kernelspec": {
   "display_name": "Python 3",
   "language": "python",
   "name": "python3"
  },
  "language_info": {
   "codemirror_mode": {
    "name": "ipython",
    "version": 3
   },
   "file_extension": ".py",
   "mimetype": "text/x-python",
   "name": "python",
   "nbconvert_exporter": "python",
   "pygments_lexer": "ipython3",
   "version": "3.8.3"
  }
 },
 "nbformat": 4,
 "nbformat_minor": 4
}
