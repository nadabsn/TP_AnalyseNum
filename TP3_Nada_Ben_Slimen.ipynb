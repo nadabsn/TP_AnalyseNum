{
 "cells": [
  {
   "cell_type": "markdown",
   "metadata": {},
   "source": [
    "<img src='pic/entete.JPG' />"
   ]
  },
  {
   "cell_type": "markdown",
   "metadata": {},
   "source": [
    "## Objectif:"
   ]
  },
  {
   "cell_type": "markdown",
   "metadata": {},
   "source": [
    "Le but de ce projet est de comparer les 4 méthodes d’intégrations numériques:"
   ]
  },
  {
   "cell_type": "markdown",
   "metadata": {},
   "source": [
    ">- <strong>Méthode des réctangles</strong>\n",
    ">- <strong>Méthode du point milieu</strong>\n",
    ">- <strong>Méthode des trapèzes</strong>\n",
    ">- <strong>Méthode de Simpson</strong>\n"
   ]
  },
  {
   "cell_type": "markdown",
   "metadata": {},
   "source": [
    "## Rappel:"
   ]
  },
  {
   "cell_type": "markdown",
   "metadata": {},
   "source": [
    "<img src='pic/analyse.jpg'/>"
   ]
  },
  {
   "cell_type": "code",
   "execution_count": 66,
   "metadata": {},
   "outputs": [],
   "source": [
    "#importation des bibliothèques\n",
    "from pylab import * \n",
    "import numpy as np\n",
    "import matplotlib.pyplot as plt\n",
    "from scipy.integrate import quad \n",
    "from ipywidgets import interact, interactive, fixed, interact_manual, widgets"
   ]
  },
  {
   "cell_type": "code",
   "execution_count": 67,
   "metadata": {},
   "outputs": [],
   "source": [
    "%matplotlib widget\n",
    "import ipywidgets as widgets\n",
    "import matplotlib.pyplot as plt\n",
    "import numpy as np"
   ]
  },
  {
   "cell_type": "code",
   "execution_count": 68,
   "metadata": {},
   "outputs": [],
   "source": [
    "f=lambda x:1/(1+x**2) #la fonction f"
   ]
  },
  {
   "cell_type": "markdown",
   "metadata": {},
   "source": [
    "# 1- Méthode des réctangles:"
   ]
  },
  {
   "cell_type": "markdown",
   "metadata": {},
   "source": [
    "<img src='pic/frect.jpg' />"
   ]
  },
  {
   "cell_type": "markdown",
   "metadata": {},
   "source": [
    "<img src='pic/rect.png'/>"
   ]
  },
  {
   "cell_type": "markdown",
   "metadata": {},
   "source": [
    "### Le code python"
   ]
  },
  {
   "cell_type": "code",
   "execution_count": 69,
   "metadata": {},
   "outputs": [],
   "source": [
    "class RectangleG ( object ) :\n",
    "    def __init__ (self , a , b , n , f, c ,lx , ly ) :\n",
    "        self.a = a\n",
    "        self.b = b\n",
    "        self.x = np.linspace( a , b , n+1 )\n",
    "        self.f = f\n",
    "        self.n = n\n",
    "        self.c = c\n",
    "        self.lx = lx\n",
    "        self.ly = ly\n",
    "    def integrate ( self , f ) :\n",
    "        x= self.x\n",
    "        y= f( x )\n",
    "        h = float( x[1] - x[0] )\n",
    "        s = sum( y[ 0 : -1 ] )\n",
    "        return h * s\n",
    "    def Graph ( self , f ,c,lx,ly, resolution =1001) :\n",
    "        xl = self.x\n",
    "        yl = f(xl)\n",
    "        xlist_fine =np.linspace( self.a , self.b , resolution )\n",
    "        for i in range ( self.n ) :\n",
    "            x_rect = [xl[ i ] , xl[ i ] , xl[ i + 1 ] , xl[i+1] , xl[ i ] ] # abscisses des sommets\n",
    "            y_rect = [0 , yl[ i ] , yl[ i ] , 0 , 0 ] # ordonnees des sommets\n",
    "            plt.plot ( x_rect , y_rect , 'r' )\n",
    "        yflist_fine = f ( xlist_fine )\n",
    "        plt.plot ( xlist_fine , yflist_fine,color=c )\n",
    "        plt.plot(xl, yl,\"bo\")\n",
    "        plt.xlabel (lx)\n",
    "        plt.ylabel (ly)\n",
    "        plt.title ( ' Methode des rectangles gauches' )\n",
    "        plt.text( 0.5*( self.a+ self.b ) , f(self.b ) , 'I_{} ={:0.8f}'.format(self.n,self.integrate( f ) ) , fontsize =10 )"
   ]
  },
  {
   "cell_type": "markdown",
   "metadata": {},
   "source": [
    "# 2- Méthode des trapèzes:"
   ]
  },
  {
   "cell_type": "markdown",
   "metadata": {},
   "source": [
    "Présentons à présent la méthode des trapèzes pour calculer l'aire sous la courbe représentative d'une fonction f sur un intervalle [a,b].\n",
    "L'idée est d'approcher l'aire sous la courbe par des trapèzes dont l'aire est facilement calculables comme sur la figure ci-dessous (les bases des trapèzes sont verticales)."
   ]
  },
  {
   "cell_type": "markdown",
   "metadata": {},
   "source": [
    "<img src='pic/ftrap.jpg'/>"
   ]
  },
  {
   "cell_type": "markdown",
   "metadata": {},
   "source": [
    "<img src='pic/trap.png'/>"
   ]
  },
  {
   "cell_type": "markdown",
   "metadata": {},
   "source": [
    "### Le code python"
   ]
  },
  {
   "cell_type": "code",
   "execution_count": 70,
   "metadata": {},
   "outputs": [],
   "source": [
    "class Trapezoidal(object):\n",
    "    def __init__ (self , a , b , n , f, c ,lx , ly ) :\n",
    "        self.a = a\n",
    "        self.b = b\n",
    "        self.x = np.linspace( a , b , n+1 )\n",
    "        self.f = f\n",
    "        self.n = n\n",
    "        self.c = c\n",
    "        self.lx = lx\n",
    "        self.ly = ly\n",
    "    def integrate(self,f):\n",
    "        x=self.x\n",
    "        y=f(x)\n",
    "        h = float(x[1] - x[0])\n",
    "        s = y[0] + y[-1] + 2.0*sum(y[1:-1])\n",
    "        return h * s / 2.0\n",
    "    def Graph ( self , f ,c,lx,ly, resolution =1001) :\n",
    "        xl = self.x\n",
    "        yl = f(xl)\n",
    "        xlist_fine=np.linspace(self.a, self.b, resolution)\n",
    "        for i in range(self.n):\n",
    "            x_rect = [xl[i], xl[i], xl[i+1], xl[i+1], xl[i]] # abscisses des sommets\n",
    "            y_rect = [0   , yl[i], yl[i+1]  , 0     , 0   ] # ordonnees des sommets\n",
    "            plt.plot(x_rect, y_rect,\"m\")\n",
    "        yflist_fine = f(xlist_fine)\n",
    "        plt.plot(xlist_fine, yflist_fine,color=c)#plot de f(x)\n",
    "        plt.plot(xl, yl,\"cs\")#point support\n",
    "        plt.xlabel(lx)\n",
    "        plt.ylabel (ly)\n",
    "        plt.title ( ' Methode des Trapèzes' )\n",
    "        plt.text( 0.5*( self.a+ self.b ) , f(self.b ) , 'I_{} ={:0.8f}'.format(self.n,self.integrate( f ) ) , fontsize =10 )"
   ]
  },
  {
   "cell_type": "markdown",
   "metadata": {},
   "source": [
    "# 3- Méthode de Simpson:"
   ]
  },
  {
   "cell_type": "markdown",
   "metadata": {},
   "source": [
    "Pour approximer la fonction f, cette méthode utilise le polynôme de degré 2 (la parabole) qui passe par\n",
    "les trois points f0 = f(a), f1 = f((a+b)/2) et f 2 = f(b) :"
   ]
  },
  {
   "cell_type": "markdown",
   "metadata": {},
   "source": [
    "<img src='pic/fsim.jpg'/>"
   ]
  },
  {
   "cell_type": "markdown",
   "metadata": {},
   "source": [
    "### Le code python"
   ]
  },
  {
   "cell_type": "code",
   "execution_count": 71,
   "metadata": {},
   "outputs": [],
   "source": [
    "class Simpson(object):\n",
    "    def __init__ (self , a , b , n , f, c ,lx , ly ) :\n",
    "        self.a = a\n",
    "        self.b = b\n",
    "        self.x = np.linspace( a , b , n+1 )\n",
    "        self.f = f\n",
    "        self.n = n\n",
    "        self.c = c\n",
    "        self.lx = lx\n",
    "        self.ly = ly\n",
    "   \n",
    "    def integrate(self,f):#calculer la somme ((b-a)/6*n)*[f(a)+2*sum(xi)+4*sum(mi)+f(b)]\n",
    "        x=self.x #les points supports xi #x(0)=a-->x(n)=b\n",
    "        y=f(x) #yi variable local y(o)=f(xo)-->y(n)\n",
    "        h = float(x[1] - x[0])#pas h=(b-a)/2*n\n",
    "        n = len(x) - 1#nombre subdivision\n",
    "        if n % 2 == 1:#si le reste de la division =1 impaire\n",
    "            n -= 1\n",
    "        s = y[0] + y[n] + 4.0 * sum(y[1:-1:2]) + 2.0 * sum(y[2:-2:2])\n",
    "        #y[1:-1:2] \n",
    "        #calculer la somme\n",
    "        #T(-1] dernier valeur dans le tableau)\n",
    "        return h * s / 3.0\n",
    "   \n",
    "\n",
    "    def Graph ( self , f ,c,lx,ly, resolution =1001) :\n",
    "        xl = self.x\n",
    "        yl = f(xl)\n",
    "        xlist_fine=np.linspace(self.a, self.b, resolution)\n",
    "        for i in range(self.n):#range intervalle 0 à n\n",
    "            xx=np.linspace(xl[i], xl[i+1], resolution)\n",
    "            #pour chaque subdivisuion  on doit dessiner polynome dnc on doit aussi le subdiviser\n",
    "            m=(xl[i]+xl[i+1])/2#pt milieu\n",
    "            aa=xl[i]#borne gauche\n",
    "            bb=xl[i+1]#borne droite\n",
    "            l0 = (xx-m)/(aa-m)*(xx-bb)/(aa-bb)\n",
    "            l1 = (xx-aa)/(m-aa)*(xx-bb)/(m-bb)\n",
    "            l2 = (xx-aa)/(bb-aa)*(xx-m)/(bb-m)\n",
    "            P = f(aa)*l0 + f(m)*l1 + f(bb)*l2#fonction dde polynome\n",
    "            plt.plot(xx,P,'b')#dessiner polynome d'interpolation\n",
    "            plt.plot(m,f(m),\"r*\")\n",
    "        yflist_fine = f(xlist_fine)\n",
    "        plt.plot(xlist_fine, yflist_fine)#plot de f(x)\n",
    "        plt.plot(xl, yl,\"cs\")#point support\n",
    "        plt.xlabel(lx)\n",
    "        plt.ylabel (ly)\n",
    "        plt.title ( ' Methode de Simpson' )\n",
    "        plt.text( 0.5*( self.a+ self.b ) , f(self.b ) , 'I_{} ={:0.8f}'.format(self.n,self.integrate( f ) ) , fontsize =10 )"
   ]
  },
  {
   "cell_type": "markdown",
   "metadata": {},
   "source": [
    "# 3- Méthode des points milieux:"
   ]
  },
  {
   "cell_type": "markdown",
   "metadata": {},
   "source": [
    "Cette méthode utilise également le polynôme constant pour\n",
    "approximer la fonction f. Cependant, elle exploite mieux les\n",
    "symétries du problème en choisissant la valeur milieu"
   ]
  },
  {
   "cell_type": "markdown",
   "metadata": {},
   "source": [
    "<img src='pic/fpoin.jpg'/>"
   ]
  },
  {
   "cell_type": "markdown",
   "metadata": {},
   "source": [
    "<img src='pic/poin.png' width=400 height=400/>"
   ]
  },
  {
   "cell_type": "markdown",
   "metadata": {},
   "source": [
    "### Le code python"
   ]
  },
  {
   "cell_type": "code",
   "execution_count": 72,
   "metadata": {},
   "outputs": [],
   "source": [
    "class Milieu( object ) :\n",
    "    def __init__ (self , a , b , n , f, c ,lx , ly ) :\n",
    "        self.a = a\n",
    "        self.b = b\n",
    "        self.x = np.linspace( a , b , n+1 )\n",
    "        self.f = f\n",
    "        self.n = n\n",
    "        self.c = c\n",
    "        self.lx = lx\n",
    "        self.ly = ly\n",
    "\n",
    "    def integrate(self,f):\n",
    "        h=float(self.b-self.a)/(self.n)\n",
    "        sum1=0\n",
    "        for i in range(self.n):\n",
    "            sum1 += f(self.a+(i+1/2)*h)\n",
    "\n",
    "        I = h*sum1\n",
    "        return I\n",
    "\n",
    "    def Graph ( self , f ,c,lx,ly, resolution =1001) :\n",
    "        xl = self.x\n",
    "        yl = f(xl)\n",
    "        xlist_fine =np.linspace( self.a , self.b , resolution )\n",
    "        for i in range ( self.n ) :\n",
    "            mi=(xl[i]+xl[i+1])/2\n",
    "            x_rect = [xl[i], xl[i], xl[i+1], xl[i+1], xl[i]] # abscisses des sommets\n",
    "            y_rect = [0 , f(mi), f(mi) , 0 , 0 ] # ordonnees des sommets\n",
    "            plt.plot ( x_rect , y_rect , 'r' )\n",
    "            plt.plot(mi,f(mi), 'g*')\n",
    "        yflist_fine = f ( xlist_fine )\n",
    "        plt.plot ( xlist_fine , yflist_fine,color=c )\n",
    "        #plt.plot(xl, yl,\"bo\")\n",
    "        plt.xlabel ( lx )\n",
    "        plt.ylabel ( ly )\n",
    "        plt.title ( ' Methode de Milieux' )\n",
    "        plt.text( 0.5*( self.a+ self.b ) , f(self.b ) , 'I_{} ={:0.8f}'.format(self.n,self.integrate( f ) ) , fontsize =10 )"
   ]
  },
  {
   "cell_type": "markdown",
   "metadata": {},
   "source": [
    "### Simulation"
   ]
  },
  {
   "cell_type": "code",
   "execution_count": 73,
   "metadata": {},
   "outputs": [],
   "source": [
    "def sim(a,b,n,f,i,x,y):\n",
    "    T = Trapezoidal(a,b,n,f,i,x,y)\n",
    "    S = Simpson(a,b,n,f,i,x,y)\n",
    "    R = RectangleG(a,b,n,f,i,x,y)\n",
    "    M = Milieu(a,b,n,f,i,x,y)\n",
    "\n",
    "    plt.subplot(221)  \n",
    "    R.Graph(f,i,x,y)\n",
    "    \n",
    "    plt.subplot(222)\n",
    "    T.Graph(f,i,x,y)\n",
    "    \n",
    "    plt.subplot(223)\n",
    "    M.Graph(f,i,x,y)\n",
    "    \n",
    "    plt.subplot(224)\n",
    "    S.Graph(f,i,x,y)\n",
    "    \n",
    "    plt.show()\n"
   ]
  },
  {
   "cell_type": "code",
   "execution_count": 74,
   "metadata": {},
   "outputs": [],
   "source": [
    "output = widgets.Output() \n",
    "with output:\n",
    "    fig= plt.figure(figsize=(6,6))\n",
    "\n",
    "fig.canvas.toolbar_position = 'bottom' "
   ]
  },
  {
   "cell_type": "code",
   "execution_count": 75,
   "metadata": {},
   "outputs": [],
   "source": [
    "# create some control elements\n",
    "int_slider = widgets.IntSlider(value=1, min=0, max=10, step=1, description='N')\n",
    "color_picker = widgets.ColorPicker(value=\"blue\", description='Pick a color')\n",
    "text_a= widgets.IntText(value=-1, description='Type in A', continuous_update=False)\n",
    "text_b = widgets.IntText(value=1, description='Type in B', continuous_update=False)\n",
    "select = widgets.Dropdown(options={'1/(1+x**2)':lambda x:1/(1+x**2),\n",
    "                                    'sin(x)':lambda x: sin(x),\n",
    "                                    'cos(x)':lambda x:cos(x),\n",
    "                                    'tan(x)':lambda x:tan(x),\n",
    "                                    '1/(1+x)':lambda x:1/(1+x),\n",
    "                                    'x**2-x+5':lambda x:x**2-x+5},description='Choose a function') \n",
    "text_xlabel = widgets.Text(value='x', description='xlabel', continuous_update=False)\n",
    "text_ylabel = widgets.Text(value='f(x)', description='ylabel', continuous_update=False)\n",
    "button = widgets.Button(description=\"Simulate\")\n",
    "\n",
    "# callback functions\n",
    "def update(change):\n",
    "    \"\"\"redraw line (update plot)\"\"\"\n",
    "    fig.clear() \n",
    "    sim(text_a.value,text_b.value,int_slider.value,select.value,color_picker.value,text_xlabel.value,text_ylabel.value)\n",
    "   \n",
    "def line_color(change):\n",
    "    \"\"\"set line color\"\"\"\n",
    "    fig.clear()\n",
    "    sim(text_a.value,text_b.value,int_slider.value,select.value,color_picker.value,text_xlabel.value,text_ylabel.value)\n",
    "    \n",
    "def update_xlabel(change):\n",
    "    fig.clear()\n",
    "    sim(text_a.value,text_b.value,int_slider.value,select.value,color_picker.value,change.new,text_ylabel.value)\n",
    "def update_ylabel(change):\n",
    "    fig.clear()\n",
    "    sim(text_a.value,text_b.value,int_slider.value,select.value,color_picker.value,text_xlabel.value,change.new)\n",
    "def on_button_clicked(b):\n",
    "    with output:\n",
    "        fig.clear()\n",
    "        sim(text_a.value,text_b.value,int_slider.value,select.value,color_picker.value,text_xlabel.value,text_ylabel.value)\n",
    "\n",
    "int_slider.observe(update, 'value')\n",
    "color_picker.observe(line_color, 'value')\n",
    "text_xlabel.observe(update_xlabel, 'value')\n",
    "text_ylabel.observe(update_ylabel, 'value')"
   ]
  },
  {
   "cell_type": "code",
   "execution_count": 76,
   "metadata": {},
   "outputs": [
    {
     "data": {
      "application/vnd.jupyter.widget-view+json": {
       "model_id": "fb4dfa31b841419f9841263d2819d019",
       "version_major": 2,
       "version_minor": 0
      },
      "text/plain": [
       "HBox(children=(VBox(children=(IntSlider(value=1, description='N', max=10), ColorPicker(value='blue', descripti…"
      ]
     },
     "metadata": {},
     "output_type": "display_data"
    }
   ],
   "source": [
    "controls = widgets.VBox([int_slider, color_picker,text_a, text_b,select,text_xlabel, text_ylabel,button])\n",
    "button.on_click(on_button_clicked)\n",
    "widgets.HBox([controls, output])"
   ]
  },
  {
   "cell_type": "code",
   "execution_count": null,
   "metadata": {},
   "outputs": [],
   "source": []
  },
  {
   "cell_type": "code",
   "execution_count": null,
   "metadata": {},
   "outputs": [],
   "source": []
  }
 ],
 "metadata": {
  "kernelspec": {
   "display_name": "Python 3",
   "language": "python",
   "name": "python3"
  },
  "language_info": {
   "codemirror_mode": {
    "name": "ipython",
    "version": 3
   },
   "file_extension": ".py",
   "mimetype": "text/x-python",
   "name": "python",
   "nbconvert_exporter": "python",
   "pygments_lexer": "ipython3",
   "version": "3.8.3"
  }
 },
 "nbformat": 4,
 "nbformat_minor": 4
}
